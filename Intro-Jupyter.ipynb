{
 "cells": [
  {
   "cell_type": "markdown",
   "metadata": {},
   "source": [
    "# Introduction to Jupyter notebooks\n",
    "\n",
    "All Rights Reserved © <a href=\"http://www.louisdorard.com\" style=\"color: #6D00FF;\">Louis Dorard</a>\n",
    "\n",
    "<img src=\"http://s3.louisdorard.com.s3.amazonaws.com/ML_icon.png\">"
   ]
  },
  {
   "cell_type": "markdown",
   "metadata": {
    "slideshow": {
     "slide_type": "slide"
    }
   },
   "source": [
    "## Welcome!\n",
    "\n",
    "You're viewing a Jupyter notebook. You can think of it as an interactive web-based code tutorial.\n",
    "\n",
    "* It's a web page served by a Jupyter server\n",
    "* It contains blocks of:\n",
    "   * Text (such as this one)\n",
    "   * Code (that you can edit and run)."
   ]
  },
  {
   "cell_type": "code",
   "execution_count": null,
   "metadata": {
    "collapsed": true,
    "slideshow": {
     "slide_type": "slide"
    }
   },
   "outputs": [],
   "source": [
    "a = 2\n",
    "print(a)"
   ]
  },
  {
   "cell_type": "markdown",
   "metadata": {},
   "source": [
    "These blocks are actually called \"cells\".\n",
    "\n",
    "* To edit or run a code cell, you need to click on it first.\n",
    "* Press Shift+Enter to run. The code is run on the same server that serves the page and the output is displayed on the page."
   ]
  },
  {
   "cell_type": "markdown",
   "metadata": {
    "slideshow": {
     "slide_type": "slide"
    }
   },
   "source": [
    "## Notebook basics\n",
    "\n",
    "When the variable `a` has been defined, we can use it in other code cells:"
   ]
  },
  {
   "cell_type": "code",
   "execution_count": null,
   "metadata": {
    "collapsed": true
   },
   "outputs": [],
   "source": [
    "a + a"
   ]
  },
  {
   "cell_type": "markdown",
   "metadata": {},
   "source": [
    "(Note the number `X` in between brackets in `In [X]` which tells you how many blocks of code have been run so far.)"
   ]
  },
  {
   "cell_type": "markdown",
   "metadata": {
    "slideshow": {
     "slide_type": "slide"
    }
   },
   "source": [
    "Let's now do some more advanced math. We'll use the `math` library:"
   ]
  },
  {
   "cell_type": "code",
   "execution_count": null,
   "metadata": {
    "collapsed": true
   },
   "outputs": [],
   "source": [
    "import math"
   ]
  },
  {
   "cell_type": "markdown",
   "metadata": {},
   "source": [
    "The code in the cell below is not valid. If you position your cursor at the end of the cell and press on the Tabulation key of your keyboard, you'll see all the functions of the math library that start with an 's'."
   ]
  },
  {
   "cell_type": "code",
   "execution_count": null,
   "metadata": {
    "collapsed": true
   },
   "outputs": [],
   "source": [
    "math.s"
   ]
  },
  {
   "cell_type": "markdown",
   "metadata": {
    "slideshow": {
     "slide_type": "slide"
    }
   },
   "source": [
    "Let's choose `math.sqrt`. If we press Shift + Tabulation, we'll see some basic information about this function. Also try to keep Shift pressed and press Tabulation several times."
   ]
  },
  {
   "cell_type": "code",
   "execution_count": null,
   "metadata": {
    "collapsed": true
   },
   "outputs": [],
   "source": [
    "math.sqrt"
   ]
  },
  {
   "cell_type": "markdown",
   "metadata": {},
   "source": [
    "Let's apply this function:"
   ]
  },
  {
   "cell_type": "code",
   "execution_count": null,
   "metadata": {
    "collapsed": true
   },
   "outputs": [],
   "source": [
    "math.sqrt(a)"
   ]
  },
  {
   "cell_type": "markdown",
   "metadata": {},
   "source": [
    "## Exercise\n",
    "\n",
    "* Add a new cell by clicking on the “+” icon in the toolbar. Type some code and execute it.\n",
    "* Add a new cell and change its type from \"_Code_\" to \"_Markdown_\" using the Dropdown menu.\n",
    "* Remove a cell by clicking the _Cut_ button, then add it back with the _Paste_ button.\n",
    "* Try “Run All” in the _Cell_ menu."
   ]
  },
  {
   "cell_type": "markdown",
   "metadata": {
    "slideshow": {
     "slide_type": "slide"
    }
   },
   "source": [
    "## Recap & good to know\n",
    "\n",
    "* Notebooks are web pages served by Jupyter (formerly _IPython_)\n",
    "* They contain Markdown cells (text) and code cells that are editable and runnable\n",
    "* Default language is Python (but other languages can be used)\n",
    "* Code is executed on Jupyter server by a “kernel” which returns the output (if any), to be displayed in the page (`Out [X]`)\n",
    "* The kernel's name is displayed at the top right \n",
    "* Jupyter server is open source; notebook format is JSON"
   ]
  },
  {
   "cell_type": "markdown",
   "metadata": {
    "slideshow": {
     "slide_type": "slide"
    }
   },
   "source": [
    "## Next steps\n",
    "\n",
    "* Create a new cell by clicking on the \"+\" button in the toolbar above. Write some code and execute it.\n",
    "* Take some time to explore the other buttons in this toolbar, and then to explore to menu items above, in particular \"Cell\" and \"Kernel\"."
   ]
  },
  {
   "cell_type": "markdown",
   "metadata": {
    "slideshow": {
     "slide_type": "slide"
    }
   },
   "source": [
    "## Further reading\n",
    "\n",
    "* [Introduction to Python Programming — Jupyter notebook](https://github.com/jrjohansson/scientific-python-lectures/blob/master/Lecture-1-Introduction-to-Python-Programming.ipynb) (look at: Python program files, Modules, Assignment, Fundamental types, Control Flow, Functions)\n"
   ]
  }
 ],
 "metadata": {
  "kernelspec": {
   "display_name": "Python [default]",
   "language": "python",
   "name": "python3"
  },
  "language_info": {
   "codemirror_mode": {
    "name": "ipython",
    "version": 3
   },
   "file_extension": ".py",
   "mimetype": "text/x-python",
   "name": "python",
   "nbconvert_exporter": "python",
   "pygments_lexer": "ipython3",
   "version": "3.6.4"
  },
  "livereveal": {
    "autolaunch": true,
    "scroll": true
  }
 },
 "nbformat": 4,
 "nbformat_minor": 2
}
