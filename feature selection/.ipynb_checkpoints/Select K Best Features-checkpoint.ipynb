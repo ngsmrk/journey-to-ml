{
 "cells": [
  {
   "cell_type": "code",
   "execution_count": 1,
   "metadata": {},
   "outputs": [
    {
     "name": "stdout",
     "output_type": "stream",
     "text": [
      "Index(['Pregnancies', 'Glucose', 'BloodPressure', 'SkinThickness', 'Insulin',\n",
      "       'BMI', 'DiabetesPedigreeFunction', 'Age', 'Outcome'],\n",
      "      dtype='object')\n"
     ]
    }
   ],
   "source": [
    "import pandas as pd\n",
    "\n",
    "data_frame = pd.read_csv('../data/pima-indians-diabetes.csv')\n",
    "print(data_frame.columns)\n",
    "\n",
    "target_column = 'Outcome'\n",
    "feature_names = data_frame.columns.drop(target_column)\n",
    "# split by field name\n",
    "X = data_frame[feature_names]\n",
    "Y = data_frame[target_column].values"
   ]
  },
  {
   "cell_type": "code",
   "execution_count": 2,
   "metadata": {},
   "outputs": [],
   "source": [
    "TEST_SIZE = 0.2 # ratio of data to have in test\n",
    "SEED = 8 # to be used to initialize random number generator, for reproducibility\n",
    "from sklearn.model_selection import train_test_split\n",
    "X_train, X_test, Y_train, Y_test = train_test_split(X, Y, test_size=TEST_SIZE, random_state=SEED)"
   ]
  },
  {
   "cell_type": "code",
   "execution_count": 3,
   "metadata": {},
   "outputs": [
    {
     "name": "stdout",
     "output_type": "stream",
     "text": [
      "With all features\n",
      "0.7532467532467533\n",
      "0.6590909090909091\n",
      "0.5576923076923077\n",
      "0.6041666666666667\n",
      "[[87 15]\n",
      " [23 29]]\n"
     ]
    }
   ],
   "source": [
    "import sklearn.metrics as metrics\n",
    "from sklearn.ensemble import RandomForestClassifier\n",
    "\n",
    "# train model with all features\n",
    "model = RandomForestClassifier(n_estimators=10, random_state=SEED)\n",
    "model.fit(X_train, Y_train)\n",
    "\n",
    "# predict\n",
    "Y_pred = model.predict(X_test)\n",
    "\n",
    "# check accuracy\n",
    "print('With all features')\n",
    "print(metrics.accuracy_score(Y_test, Y_pred))\n",
    "print(metrics.precision_score(Y_test, Y_pred))\n",
    "print(metrics.recall_score(Y_test, Y_pred))\n",
    "print(metrics.f1_score(Y_test, Y_pred)) \n",
    "print(metrics.confusion_matrix(Y_test, Y_pred))"
   ]
  },
  {
   "cell_type": "code",
   "execution_count": 4,
   "metadata": {},
   "outputs": [],
   "source": [
    "def evaluate_with_num_features(num_features):\n",
    "    \n",
    "    # select features with highest scores\n",
    "    from sklearn.feature_selection import SelectKBest, chi2\n",
    "    selector = SelectKBest(chi2, k=num_features)\n",
    "    selector.fit(X_train, Y_train)\n",
    "\n",
    "    # get scores\n",
    "    feature_scores = list(zip(data_frame.columns, selector.scores_))\n",
    "    print(feature_scores)\n",
    "\n",
    "    # get selected features with names\n",
    "    print(data_frame.columns[selector.get_support(indices=True)])\n",
    "\n",
    "    selected_X_train = selector.transform(X_train)\n",
    "\n",
    "    # train model with selected features\n",
    "    model = RandomForestClassifier(n_estimators=10, random_state=SEED)\n",
    "    model.fit(selected_X_train, Y_train)\n",
    "\n",
    "    # predict\n",
    "    Y_pred = model.predict(selector.transform(X_test))\n",
    "\n",
    "    # check accuracy\n",
    "    print('With %i features' % (num_features))\n",
    "    print(metrics.accuracy_score(Y_test, Y_pred))\n",
    "    print(metrics.precision_score(Y_test, Y_pred))\n",
    "    print(metrics.recall_score(Y_test, Y_pred))\n",
    "    print(metrics.f1_score(Y_test, Y_pred)) \n",
    "    print(metrics.confusion_matrix(Y_test, Y_pred))"
   ]
  },
  {
   "cell_type": "code",
   "execution_count": 5,
   "metadata": {},
   "outputs": [
    {
     "name": "stdout",
     "output_type": "stream",
     "text": [
      "[('Pregnancies', 81.5625440912852), ('Glucose', 1100.995801674656), ('BloodPressure', 11.596627661284971), ('SkinThickness', 104.36813534225452), ('Insulin', 1707.9625372686578), ('BMI', 124.65749720367606), ('DiabetesPedigreeFunction', 4.500261588452462), ('Age', 111.3301183186772)]\n",
      "Index(['Insulin'], dtype='object')\n",
      "With 1 features\n",
      "0.6038961038961039\n",
      "0.3902439024390244\n",
      "0.3076923076923077\n",
      "0.34408602150537637\n",
      "[[77 25]\n",
      " [36 16]]\n"
     ]
    }
   ],
   "source": [
    "evaluate_with_num_features(1)"
   ]
  },
  {
   "cell_type": "code",
   "execution_count": null,
   "metadata": {},
   "outputs": [],
   "source": []
  }
 ],
 "metadata": {
  "kernelspec": {
   "display_name": "Python 3",
   "language": "python",
   "name": "python3"
  },
  "language_info": {
   "codemirror_mode": {
    "name": "ipython",
    "version": 3
   },
   "file_extension": ".py",
   "mimetype": "text/x-python",
   "name": "python",
   "nbconvert_exporter": "python",
   "pygments_lexer": "ipython3",
   "version": "3.6.4"
  }
 },
 "nbformat": 4,
 "nbformat_minor": 2
}
