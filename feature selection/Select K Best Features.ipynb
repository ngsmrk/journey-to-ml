{
 "cells": [
  {
   "cell_type": "code",
   "execution_count": 1,
   "metadata": {},
   "outputs": [
    {
     "name": "stdout",
     "output_type": "stream",
     "text": [
      "Index(['Pregnancies', 'Glucose', 'BloodPressure', 'SkinThickness', 'Insulin',\n",
      "       'BMI', 'DiabetesPedigreeFunction', 'Age', 'Outcome'],\n",
      "      dtype='object')\n"
     ]
    }
   ],
   "source": [
    "import pandas as pd\n",
    "import numpy as np\n",
    "\n",
    "data_frame = pd.read_csv('../data/pima-indians-diabetes.csv')\n",
    "print(data_frame.columns)\n",
    "\n",
    "target_column = 'Outcome'\n",
    "feature_names = data_frame.columns.drop(target_column)\n",
    "# split by field name\n",
    "X = data_frame[feature_names]\n",
    "Y = data_frame[target_column].values"
   ]
  },
  {
   "cell_type": "code",
   "execution_count": 2,
   "metadata": {},
   "outputs": [],
   "source": [
    "TEST_SIZE = 0.2 # ratio of data to have in test\n",
    "SEED = 8 # to be used to initialize random number generator, for reproducibility\n",
    "from sklearn.model_selection import train_test_split\n",
    "X_train, X_test, Y_train, Y_test = train_test_split(X, Y, test_size=TEST_SIZE, random_state=SEED)"
   ]
  },
  {
   "cell_type": "code",
   "execution_count": 3,
   "metadata": {},
   "outputs": [],
   "source": [
    "# mean absolute error\n",
    "def mae(y_test, y_pred):\n",
    "    return np.mean(abs(y_test - y_pred))\n",
    "\n",
    "def init_model():\n",
    "    from sklearn.ensemble import RandomForestClassifier\n",
    "    from sklearn.discriminant_analysis import LinearDiscriminantAnalysis\n",
    "    \n",
    "    return LinearDiscriminantAnalysis()\n",
    "    # return RandomForestClassifier(n_estimators=10, random_state=SEED)"
   ]
  },
  {
   "cell_type": "code",
   "execution_count": 4,
   "metadata": {},
   "outputs": [
    {
     "name": "stdout",
     "output_type": "stream",
     "text": [
      "With all features\n",
      "0.7987012987012987\n",
      "0.7333333333333333\n",
      "0.6346153846153846\n",
      "0.6804123711340205\n",
      "[[90 12]\n",
      " [19 33]]\n",
      "MAE = 0.2013\n"
     ]
    }
   ],
   "source": [
    "import sklearn.metrics as metrics\n",
    "\n",
    "# train model with all features\n",
    "model = init_model()\n",
    "model.fit(X_train, Y_train)\n",
    "\n",
    "# predict\n",
    "Y_pred = model.predict(X_test)\n",
    "\n",
    "# check accuracy\n",
    "print('With all features')\n",
    "print(metrics.accuracy_score(Y_test, Y_pred))\n",
    "print(metrics.precision_score(Y_test, Y_pred))\n",
    "print(metrics.recall_score(Y_test, Y_pred))\n",
    "print(metrics.f1_score(Y_test, Y_pred)) \n",
    "print(metrics.confusion_matrix(Y_test, Y_pred))\n",
    "\n",
    "print(\"MAE = %0.4f\" % mae(Y_test, Y_pred))"
   ]
  },
  {
   "cell_type": "code",
   "execution_count": 5,
   "metadata": {},
   "outputs": [],
   "source": [
    "def evaluate_with_num_features(num_features):\n",
    "    \n",
    "    print('With %i features' % (num_features))    \n",
    "    \n",
    "    # select features with highest scores\n",
    "    from sklearn.feature_selection import SelectKBest, chi2\n",
    "    selector = SelectKBest(chi2, k=num_features)\n",
    "    selector.fit(X_train, Y_train)\n",
    "\n",
    "    # get scores\n",
    "    feature_scores = list(zip(data_frame.columns, selector.scores_))\n",
    "    print(feature_scores)\n",
    "\n",
    "    # get selected features with names\n",
    "    print(data_frame.columns[selector.get_support(indices=True)])\n",
    "\n",
    "    selected_X_train = selector.transform(X_train)\n",
    "\n",
    "    # train model with selected features\n",
    "    model = init_model()\n",
    "    model.fit(selected_X_train, Y_train)\n",
    "\n",
    "    # predict\n",
    "    Y_pred = model.predict(selector.transform(X_test))\n",
    "\n",
    "    # check accuracy\n",
    "    print(metrics.accuracy_score(Y_test, Y_pred))\n",
    "    print(metrics.precision_score(Y_test, Y_pred))\n",
    "    print(metrics.recall_score(Y_test, Y_pred))\n",
    "    print(metrics.f1_score(Y_test, Y_pred)) \n",
    "    print(metrics.confusion_matrix(Y_test, Y_pred))\n",
    "    print(\"MAE = %0.4f\" % mae(Y_test, Y_pred))"
   ]
  },
  {
   "cell_type": "code",
   "execution_count": 6,
   "metadata": {},
   "outputs": [
    {
     "name": "stdout",
     "output_type": "stream",
     "text": [
      "With 1 features\n",
      "[('Pregnancies', 81.5625440912852), ('Glucose', 1100.995801674656), ('BloodPressure', 11.596627661284971), ('SkinThickness', 104.36813534225452), ('Insulin', 1707.9625372686578), ('BMI', 124.65749720367606), ('DiabetesPedigreeFunction', 4.500261588452462), ('Age', 111.3301183186772)]\n",
      "Index(['Insulin'], dtype='object')\n",
      "0.6948051948051948\n",
      "0.8571428571428571\n",
      "0.11538461538461539\n",
      "0.20338983050847456\n",
      "[[101   1]\n",
      " [ 46   6]]\n",
      "MAE = 0.3052\n",
      "With 2 features\n",
      "[('Pregnancies', 81.5625440912852), ('Glucose', 1100.995801674656), ('BloodPressure', 11.596627661284971), ('SkinThickness', 104.36813534225452), ('Insulin', 1707.9625372686578), ('BMI', 124.65749720367606), ('DiabetesPedigreeFunction', 4.500261588452462), ('Age', 111.3301183186772)]\n",
      "Index(['Glucose', 'Insulin'], dtype='object')\n",
      "0.7727272727272727\n",
      "0.7741935483870968\n",
      "0.46153846153846156\n",
      "0.5783132530120482\n",
      "[[95  7]\n",
      " [28 24]]\n",
      "MAE = 0.2273\n",
      "With 3 features\n",
      "[('Pregnancies', 81.5625440912852), ('Glucose', 1100.995801674656), ('BloodPressure', 11.596627661284971), ('SkinThickness', 104.36813534225452), ('Insulin', 1707.9625372686578), ('BMI', 124.65749720367606), ('DiabetesPedigreeFunction', 4.500261588452462), ('Age', 111.3301183186772)]\n",
      "Index(['Glucose', 'Insulin', 'BMI'], dtype='object')\n",
      "0.7662337662337663\n",
      "0.7352941176470589\n",
      "0.4807692307692308\n",
      "0.5813953488372092\n",
      "[[93  9]\n",
      " [27 25]]\n",
      "MAE = 0.2338\n",
      "With 4 features\n",
      "[('Pregnancies', 81.5625440912852), ('Glucose', 1100.995801674656), ('BloodPressure', 11.596627661284971), ('SkinThickness', 104.36813534225452), ('Insulin', 1707.9625372686578), ('BMI', 124.65749720367606), ('DiabetesPedigreeFunction', 4.500261588452462), ('Age', 111.3301183186772)]\n",
      "Index(['Glucose', 'Insulin', 'BMI', 'Age'], dtype='object')\n",
      "0.7857142857142857\n",
      "0.7435897435897436\n",
      "0.5576923076923077\n",
      "0.6373626373626373\n",
      "[[92 10]\n",
      " [23 29]]\n",
      "MAE = 0.2143\n",
      "With 5 features\n",
      "[('Pregnancies', 81.5625440912852), ('Glucose', 1100.995801674656), ('BloodPressure', 11.596627661284971), ('SkinThickness', 104.36813534225452), ('Insulin', 1707.9625372686578), ('BMI', 124.65749720367606), ('DiabetesPedigreeFunction', 4.500261588452462), ('Age', 111.3301183186772)]\n",
      "Index(['Glucose', 'SkinThickness', 'Insulin', 'BMI', 'Age'], dtype='object')\n",
      "0.7662337662337663\n",
      "0.7\n",
      "0.5384615384615384\n",
      "0.608695652173913\n",
      "[[90 12]\n",
      " [24 28]]\n",
      "MAE = 0.2338\n",
      "With 6 features\n",
      "[('Pregnancies', 81.5625440912852), ('Glucose', 1100.995801674656), ('BloodPressure', 11.596627661284971), ('SkinThickness', 104.36813534225452), ('Insulin', 1707.9625372686578), ('BMI', 124.65749720367606), ('DiabetesPedigreeFunction', 4.500261588452462), ('Age', 111.3301183186772)]\n",
      "Index(['Pregnancies', 'Glucose', 'SkinThickness', 'Insulin', 'BMI', 'Age'], dtype='object')\n",
      "0.7597402597402597\n",
      "0.6829268292682927\n",
      "0.5384615384615384\n",
      "0.6021505376344086\n",
      "[[89 13]\n",
      " [24 28]]\n",
      "MAE = 0.2403\n",
      "With 7 features\n",
      "[('Pregnancies', 81.5625440912852), ('Glucose', 1100.995801674656), ('BloodPressure', 11.596627661284971), ('SkinThickness', 104.36813534225452), ('Insulin', 1707.9625372686578), ('BMI', 124.65749720367606), ('DiabetesPedigreeFunction', 4.500261588452462), ('Age', 111.3301183186772)]\n",
      "Index(['Pregnancies', 'Glucose', 'BloodPressure', 'SkinThickness', 'Insulin',\n",
      "       'BMI', 'Age'],\n",
      "      dtype='object')\n",
      "0.7792207792207793\n",
      "0.7045454545454546\n",
      "0.5961538461538461\n",
      "0.6458333333333334\n",
      "[[89 13]\n",
      " [21 31]]\n",
      "MAE = 0.2208\n"
     ]
    }
   ],
   "source": [
    "for depth in range(1,X_train.shape[1]):\n",
    "    evaluate_with_num_features(depth)"
   ]
  }
 ],
 "metadata": {
  "kernelspec": {
   "display_name": "Python 3",
   "language": "python",
   "name": "python3"
  },
  "language_info": {
   "codemirror_mode": {
    "name": "ipython",
    "version": 3
   },
   "file_extension": ".py",
   "mimetype": "text/x-python",
   "name": "python",
   "nbconvert_exporter": "python",
   "pygments_lexer": "ipython3",
   "version": "3.6.4"
  }
 },
 "nbformat": 4,
 "nbformat_minor": 2
}
