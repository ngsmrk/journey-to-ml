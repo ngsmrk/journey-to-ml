{
 "cells": [
  {
   "cell_type": "code",
   "execution_count": 2,
   "metadata": {},
   "outputs": [],
   "source": [
    "import pandas as pd\n",
    "import sklearn.metrics as metrics\n",
    "from sklearn import model_selection\n",
    "from sklearn.model_selection import KFold\n",
    "from sklearn.model_selection import cross_val_score\n",
    "from sklearn.metrics import classification_report\n",
    "from sklearn.metrics import confusion_matrix\n",
    "from sklearn.metrics import accuracy_score\n",
    "from sklearn.linear_model import LogisticRegression\n",
    "from sklearn.tree import DecisionTreeClassifier\n",
    "from sklearn.ensemble import RandomForestClassifier\n",
    "from sklearn.ensemble import GradientBoostingClassifier\n",
    "from sklearn.neighbors import KNeighborsClassifier\n",
    "from sklearn.discriminant_analysis import LinearDiscriminantAnalysis\n",
    "from sklearn.naive_bayes import GaussianNB\n",
    "from sklearn.svm import SVC"
   ]
  },
  {
   "cell_type": "code",
   "execution_count": 3,
   "metadata": {},
   "outputs": [],
   "source": [
    "# utility functions\n",
    "# get cross validation score using KFold\n",
    "def k_fold_eval(model, X, Y):\n",
    "    kfold = KFold(n_splits=10, random_state=seed) \n",
    "    score = cross_val_score(model, X, Y, cv=kfold, scoring='accuracy')\n",
    "    \n",
    "    return score"
   ]
  },
  {
   "cell_type": "code",
   "execution_count": 4,
   "metadata": {},
   "outputs": [
    {
     "name": "stdout",
     "output_type": "stream",
     "text": [
      "Index(['Pregnancies', 'Glucose', 'BloodPressure', 'SkinThickness', 'Insulin',\n",
      "       'BMI', 'DiabetesPedigreeFunction', 'Age', 'Outcome'],\n",
      "      dtype='object')\n"
     ]
    }
   ],
   "source": [
    "data_frame = pd.read_csv('../data/pima-indians-diabetes.csv')\n",
    "print(data_frame.columns)\n",
    "\n",
    "target_column = 'Outcome'\n",
    "feature_names = data_frame.columns.drop(target_column)\n",
    "# split by field name\n",
    "X = data_frame[feature_names]\n",
    "Y = data_frame[target_column].values"
   ]
  },
  {
   "cell_type": "code",
   "execution_count": 5,
   "metadata": {},
   "outputs": [],
   "source": [
    "scoring = 'accuracy'\n",
    "seed = 7\n",
    "\n",
    "models = []\n",
    "models.append(('LR', LogisticRegression()))\n",
    "models.append(('LDA', LinearDiscriminantAnalysis()))\n",
    "models.append(('KNN', KNeighborsClassifier()))\n",
    "models.append(('CART', DecisionTreeClassifier()))\n",
    "models.append(('GNB', GaussianNB()))\n",
    "models.append(('SVM', SVC()))\n",
    "models.append(('RFC', RandomForestClassifier()))\n",
    "models.append(('GBC', GradientBoostingClassifier()))"
   ]
  },
  {
   "cell_type": "code",
   "execution_count": 6,
   "metadata": {},
   "outputs": [
    {
     "name": "stdout",
     "output_type": "stream",
     "text": [
      "LR\n",
      "[[88 12]\n",
      " [27 27]]\n",
      "LDA\n",
      "[[88 12]\n",
      " [21 33]]\n",
      "KNN\n",
      "[[85 15]\n",
      " [26 28]]\n",
      "CART\n",
      "[[81 19]\n",
      " [26 28]]\n",
      "GNB\n",
      "[[87 13]\n",
      " [24 30]]\n",
      "SVM\n",
      "[[100   0]\n",
      " [ 54   0]]\n",
      "RFC\n",
      "[[91  9]\n",
      " [23 31]]\n",
      "GBC\n",
      "[[86 14]\n",
      " [23 31]]\n",
      "   Name  Accuracy Score  Precision Score  Recall Score  F1 Score\n",
      "0    LR        0.746753         0.692308      0.500000  0.580645\n",
      "1   LDA        0.785714         0.733333      0.611111  0.666667\n",
      "2   KNN        0.733766         0.651163      0.518519  0.577320\n",
      "3  CART        0.707792         0.595745      0.518519  0.554455\n",
      "4   GNB        0.759740         0.697674      0.555556  0.618557\n",
      "5   SVM        0.649351         0.000000      0.000000  0.000000\n",
      "6   RFC        0.792208         0.775000      0.574074  0.659574\n",
      "7   GBC        0.759740         0.688889      0.574074  0.626263\n"
     ]
    },
    {
     "name": "stderr",
     "output_type": "stream",
     "text": [
      "/anaconda3/lib/python3.6/site-packages/sklearn/metrics/classification.py:1135: UndefinedMetricWarning: Precision is ill-defined and being set to 0.0 due to no predicted samples.\n",
      "  'precision', 'predicted', average, warn_for)\n",
      "/anaconda3/lib/python3.6/site-packages/sklearn/metrics/classification.py:1135: UndefinedMetricWarning: F-score is ill-defined and being set to 0.0 due to no predicted samples.\n",
      "  'precision', 'predicted', average, warn_for)\n"
     ]
    }
   ],
   "source": [
    "# evaluate using test/train split\n",
    "validation_size = 0.20\n",
    "X_train, X_test, Y_train, Y_test = model_selection.train_test_split(X, Y, stratify=data_frame.Outcome, test_size=validation_size, random_state=seed)\n",
    "\n",
    "names = []\n",
    "accuracy_scores = []\n",
    "precision_scores = []\n",
    "recall_scores = []\n",
    "f1_scores = []\n",
    "for name, model in models:\n",
    "    model.fit(X_train, Y_train)\n",
    "    Y_pred = model.predict(X_test)\n",
    "    accuracy_scores.append(metrics.accuracy_score(Y_test, Y_pred))\n",
    "    precision_scores.append(metrics.precision_score(Y_test, Y_pred))\n",
    "    recall_scores.append(metrics.recall_score(Y_test, Y_pred))\n",
    "    f1_scores.append(metrics.f1_score(Y_test, Y_pred))    \n",
    "    names.append(name)\n",
    "    print(name)    \n",
    "    print(metrics.confusion_matrix(Y_test, Y_pred))\n",
    "\n",
    "tr_split = pd.DataFrame({'Name': names})\n",
    "tr_split['Accuracy Score'] = accuracy_scores\n",
    "tr_split['Precision Score'] = precision_scores\n",
    "tr_split['Recall Score'] = recall_scores\n",
    "tr_split['F1 Score'] = f1_scores\n",
    "print(tr_split)"
   ]
  },
  {
   "cell_type": "code",
   "execution_count": 7,
   "metadata": {},
   "outputs": [
    {
     "name": "stdout",
     "output_type": "stream",
     "text": [
      "   Name     Score\n",
      "0    LR  0.769515\n",
      "1   LDA  0.773462\n",
      "2   KNN  0.726555\n",
      "3  CART  0.696531\n",
      "4   GNB  0.755178\n",
      "5   SVM  0.651025\n",
      "6   RFC  0.738243\n",
      "7   GBC  0.768199\n"
     ]
    }
   ],
   "source": [
    "# evaluate using KFold\n",
    "names = []\n",
    "scores = []\n",
    "for name, model in models:\n",
    "    \n",
    "    score = k_fold_eval(model, X, Y).mean()\n",
    "    \n",
    "    names.append(name)\n",
    "    scores.append(score)\n",
    "\n",
    "kf_cross_val = pd.DataFrame({'Name': names, 'Score': scores})\n",
    "print(kf_cross_val)"
   ]
  },
  {
   "cell_type": "code",
   "execution_count": 8,
   "metadata": {},
   "outputs": [
    {
     "name": "stdout",
     "output_type": "stream",
     "text": [
      "Index(['Pregnancies', 'Glucose', 'BloodPressure', 'SkinThickness', 'Insulin',\n",
      "       'BMI', 'DiabetesPedigreeFunction', 'Age'],\n",
      "      dtype='object')\n",
      "Name LR \n",
      "['Pregnancies', 'Glucose', 'BMI', 'DiabetesPedigreeFunction']\n",
      "Name LDA \n",
      "['Pregnancies', 'Glucose', 'BloodPressure', 'Insulin', 'BMI', 'DiabetesPedigreeFunction', 'Age']\n",
      "Name KNN \n",
      "Unable to apply RFECV\n",
      "Name CART \n",
      "['Glucose', 'BMI', 'DiabetesPedigreeFunction', 'Age']\n",
      "Name GNB \n",
      "Unable to apply RFECV\n",
      "Name SVM \n",
      "Unable to apply RFECV\n",
      "Name RFC \n",
      "['Pregnancies', 'Glucose', 'BloodPressure', 'Insulin', 'BMI', 'DiabetesPedigreeFunction', 'Age']\n",
      "Name GBC \n",
      "['Glucose', 'BMI', 'DiabetesPedigreeFunction', 'Age']\n",
      "   Name     Score  New Score\n",
      "0    LR  0.769515   0.769532\n",
      "1   LDA  0.773462   0.777358\n",
      "2   KNN  0.726555        NaN\n",
      "3  CART  0.696531   0.696497\n",
      "4   GNB  0.755178        NaN\n",
      "5   SVM  0.651025        NaN\n",
      "6   RFC  0.738243   0.740926\n",
      "7   GBC  0.768199   0.764337\n"
     ]
    }
   ],
   "source": [
    "# Use Recursive Feature Elimination to establish which features contribute the most \n",
    "from sklearn.feature_selection import RFECV\n",
    "\n",
    "print(feature_names)\n",
    "\n",
    "new_scores = []\n",
    "for name, model in models:\n",
    "    msg = \"Name %s \" % (name)    \n",
    "    print(msg)\n",
    "    \n",
    "    kfold = KFold(n_splits=10, random_state=seed) \n",
    "    rfecv = RFECV(estimator=model, step=1, cv=kfold, scoring='accuracy')\n",
    "    try:\n",
    "        rfecv.fit(X, Y)\n",
    "        feature_importance = list(zip(feature_names, rfecv.support_))\n",
    "        new_features = []\n",
    "        for key,value in enumerate(feature_importance):\n",
    "            if(value[1]) == True:\n",
    "                new_features.append(value[0])\n",
    "            \n",
    "        print(new_features)    \n",
    "        \n",
    "        # get new X with only selected features\n",
    "        new_X = data_frame[new_features]\n",
    "        \n",
    "        #evaluate using Kfold\n",
    "        new_score = k_fold_eval(model, new_X, Y).mean()\n",
    "        new_scores.append(new_score)\n",
    "        \n",
    "    except RuntimeError as e:\n",
    "        print(\"Unable to apply RFECV\")\n",
    "        new_scores.append(None)\n",
    "        \n",
    "kf_cross_val['New Score'] = new_scores        \n",
    "print(kf_cross_val)       "
   ]
  },
  {
   "cell_type": "code",
   "execution_count": 9,
   "metadata": {},
   "outputs": [
    {
     "name": "stdout",
     "output_type": "stream",
     "text": [
      "Name              LDA\n",
      "Score        0.773462\n",
      "New Score    0.777358\n",
      "Name: 1, dtype: object\n",
      "Name              LDA\n",
      "Score        0.773462\n",
      "New Score    0.777358\n",
      "Name: 1, dtype: object\n"
     ]
    }
   ],
   "source": [
    "# get max model no feature elimination\n",
    "\n",
    "best_model_no_rfe = kf_cross_val.iloc[kf_cross_val['Score'].idxmax()]\n",
    "print(best_model_no_rfe)\n",
    "\n",
    "# get max model with feature elimination\n",
    "\n",
    "best_model_w_rfe = kf_cross_val.iloc[kf_cross_val['New Score'].idxmax()]\n",
    "print(best_model_w_rfe)"
   ]
  }
 ],
 "metadata": {
  "kernelspec": {
   "display_name": "Python 3",
   "language": "python",
   "name": "python3"
  },
  "language_info": {
   "codemirror_mode": {
    "name": "ipython",
    "version": 3
   },
   "file_extension": ".py",
   "mimetype": "text/x-python",
   "name": "python",
   "nbconvert_exporter": "python",
   "pygments_lexer": "ipython3",
   "version": "3.6.4"
  }
 },
 "nbformat": 4,
 "nbformat_minor": 2
}
