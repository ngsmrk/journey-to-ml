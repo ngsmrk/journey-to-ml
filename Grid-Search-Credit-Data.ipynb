{
 "cells": [
  {
   "cell_type": "markdown",
   "metadata": {
    "slideshow": {
     "slide_type": "slide"
    }
   },
   "source": [
    "# Perform grid search on model hyperparameters\n",
    "\n",
    "All Rights Reserved © <a href=\"http://www.louisdorard.com\" style=\"color: #6D00FF;\">Louis Dorard</a>\n",
    "\n",
    "<img src=\"http://s3.louisdorard.com.s3.amazonaws.com/ML_icon.png\">"
   ]
  },
  {
   "cell_type": "markdown",
   "metadata": {
    "slideshow": {
     "slide_type": "slide"
    }
   },
   "source": [
    "## Load data"
   ]
  },
  {
   "cell_type": "code",
   "execution_count": null,
   "metadata": {},
   "outputs": [],
   "source": [
    "import pandas as pd\n",
    "\n",
    "data = pd.read_csv(\"data/kaggle-give-me-credit-nomissing.csv\", index_col=0)\n",
    "target_column = 'SeriousDlqin2yrs'\n",
    "features = data.drop(target_column, axis=1)\n",
    "outputs = data[target_column]\n",
    "X = features.values.astype(float)\n",
    "y = outputs.values"
   ]
  },
  {
   "cell_type": "markdown",
   "metadata": {
    "slideshow": {
     "slide_type": "slide"
    }
   },
   "source": [
    "## Grid search from scratch\n",
    "\n",
    "Let's implement a procedure to tune 1 hyperparameter — here, `max_features` in Random Forest."
   ]
  },
  {
   "cell_type": "code",
   "execution_count": null,
   "metadata": {},
   "outputs": [],
   "source": [
    "FOLDS = 10\n",
    "SEED = 8\n",
    "verbose = 1\n",
    "\n",
    "from sklearn.ensemble import RandomForestClassifier\n",
    "from sklearn.model_selection import cross_val_score\n",
    "from numpy import arange\n",
    "params = arange(0.1, 1.0, 0.5)\n",
    "means = []\n",
    "stdevs = []\n",
    "#for i in params:\n",
    "s = cross_val_score(RandomForestClassifier(random_state=SEED, n_estimators=10, max_features=0.1), X, y, scoring=\"r2\", cv=FOLDS, verbose=verbose)\n",
    "m = s.mean()\n",
    "st = s.std()\n",
    "means.append(m)\n",
    "stdevs.append(st)\n",
    "print(\"Param \" + str(0.1) + \": \" + str(m) + \" +/- \" + str(st))"
   ]
  },
  {
   "cell_type": "markdown",
   "metadata": {
    "slideshow": {
     "slide_type": "slide"
    }
   },
   "source": [
    "## Grid search with scikit's `GridSearchCV`\n",
    "\n",
    "### Example with 1 hyperparameter"
   ]
  },
  {
   "cell_type": "markdown",
   "metadata": {},
   "source": [
    "Define a grid search task:"
   ]
  },
  {
   "cell_type": "code",
   "execution_count": null,
   "metadata": {},
   "outputs": [],
   "source": [
    "from sklearn.model_selection import GridSearchCV\n",
    "\n",
    "params = arange(0.1, 1.0, 0.2)\n",
    "print(params)\n",
    "\n",
    "grid = {\"max_depth\": [3, 9, None],\n",
    "        \"max_features\": [0.5, 0.75]}\n",
    "\n",
    "grid_search = GridSearchCV(RandomForestClassifier(n_estimators=10, random_state=SEED),\n",
    "                           grid,\n",
    "                           scoring=\"accuracy\",\n",
    "                           cv=5, # cv is the number of folds; smaller values will make the evaluation quicker; recommended values are between 5 and 10\n",
    "                           n_jobs=-1,\n",
    "                           verbose=verbose)"
   ]
  },
  {
   "cell_type": "markdown",
   "metadata": {
    "slideshow": {
     "slide_type": "slide"
    }
   },
   "source": [
    "Run the search:"
   ]
  },
  {
   "cell_type": "code",
   "execution_count": null,
   "metadata": {
    "scrolled": true
   },
   "outputs": [],
   "source": [
    "grid_search.fit(X, y)"
   ]
  },
  {
   "cell_type": "code",
   "execution_count": null,
   "metadata": {},
   "outputs": [],
   "source": [
    "print(grid_search.best_params_)"
   ]
  },
  {
   "cell_type": "markdown",
   "metadata": {
    "slideshow": {
     "slide_type": "slide"
    }
   },
   "source": [
    "Create model from `X` and `y` using the best hyperparameters found during this search:"
   ]
  },
  {
   "cell_type": "code",
   "execution_count": 9,
   "metadata": {},
   "outputs": [
    {
     "data": {
      "text/plain": [
       "RandomForestClassifier(bootstrap=True, class_weight=None, criterion='gini',\n",
       "            max_depth=9, max_features=0.5, max_leaf_nodes=None,\n",
       "            min_impurity_decrease=0.0, min_impurity_split=None,\n",
       "            min_samples_leaf=1, min_samples_split=2,\n",
       "            min_weight_fraction_leaf=0.0, n_estimators=10, n_jobs=1,\n",
       "            oob_score=False, random_state=None, verbose=0,\n",
       "            warm_start=False)"
      ]
     },
     "execution_count": 9,
     "metadata": {},
     "output_type": "execute_result"
    }
   ],
   "source": [
    "model = RandomForestClassifier(**grid_search.best_params_)\n",
    "model.fit(X, y)"
   ]
  },
  {
   "cell_type": "code",
   "execution_count": 11,
   "metadata": {},
   "outputs": [
    {
     "name": "stdout",
     "output_type": "stream",
     "text": [
      "[4.52515828e-01 2.40000000e+01 0.00000000e+00 1.17612470e-02\n",
      " 3.40000000e+03 1.00000000e+00 0.00000000e+00 0.00000000e+00\n",
      " 0.00000000e+00 0.00000000e+00]\n",
      "0\n",
      "[0]\n",
      "[ True]\n"
     ]
    }
   ],
   "source": [
    "idx = 25\n",
    "print(X[idx])\n",
    "print(y[idx])\n",
    "prediction = model.predict([X[idx]])\n",
    "print(prediction)\n",
    "print(prediction == y[idx])"
   ]
  },
  {
   "cell_type": "code",
   "execution_count": null,
   "metadata": {},
   "outputs": [],
   "source": [
    "from sklearn.model_selection import KFold\n",
    "\n",
    "kfold = KFold(n_splits=FOLDS, shuffle=True, random_state=SEED)\n",
    "k_fold_grid_search = GridSearchCV(RandomForestClassifier(n_estimators=10, random_state=SEED),\n",
    "                           grid,\n",
    "                           scoring=\"accuracy\",\n",
    "                           cv=kfold,\n",
    "                           n_jobs=-1)\n",
    "k_fold_grid_search.fit(X, y)"
   ]
  },
  {
   "cell_type": "code",
   "execution_count": null,
   "metadata": {},
   "outputs": [],
   "source": [
    "print(k_fold_grid_search.best_params_)"
   ]
  }
 ],
 "metadata": {
  "kernelspec": {
   "display_name": "Python 3",
   "language": "python",
   "name": "python3"
  },
  "language_info": {
   "codemirror_mode": {
    "name": "ipython",
    "version": 3
   },
   "file_extension": ".py",
   "mimetype": "text/x-python",
   "name": "python",
   "nbconvert_exporter": "python",
   "pygments_lexer": "ipython3",
   "version": "3.6.4"
  },
  "livereveal": {
   "autolaunch": true,
   "scroll": true
  }
 },
 "nbformat": 4,
 "nbformat_minor": 2
}
