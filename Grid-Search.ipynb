{
 "cells": [
  {
   "cell_type": "markdown",
   "metadata": {
    "slideshow": {
     "slide_type": "slide"
    }
   },
   "source": [
    "# Perform grid search on model hyperparameters\n",
    "\n",
    "All Rights Reserved © <a href=\"http://www.louisdorard.com\" style=\"color: #6D00FF;\">Louis Dorard</a>\n",
    "\n",
    "<img src=\"http://s3.louisdorard.com.s3.amazonaws.com/ML_icon.png\">"
   ]
  },
  {
   "cell_type": "markdown",
   "metadata": {
    "slideshow": {
     "slide_type": "slide"
    }
   },
   "source": [
    "## Load data"
   ]
  },
  {
   "cell_type": "code",
   "execution_count": null,
   "metadata": {},
   "outputs": [],
   "source": [
    "import pandas as pd\n",
    "from sklearn.model_selection import train_test_split\n",
    "data = pd.read_csv(\"/data/boston-housing.csv\")\n",
    "target_column = 'medv'\n",
    "features = data.drop(target_column, axis=1)\n",
    "outputs = data[target_column]\n",
    "X = features.values.astype(float)\n",
    "y = outputs.values"
   ]
  },
  {
   "cell_type": "markdown",
   "metadata": {
    "slideshow": {
     "slide_type": "slide"
    }
   },
   "source": [
    "## Grid search from scratch\n",
    "\n",
    "Let's implement a procedure to tune 1 hyperparameter — here, `max_features` in Random Forest."
   ]
  },
  {
   "cell_type": "code",
   "execution_count": null,
   "metadata": {},
   "outputs": [],
   "source": [
    "FOLDS = 10\n",
    "\n",
    "from sklearn.ensemble import RandomForestRegressor\n",
    "from sklearn.model_selection import cross_val_score\n",
    "from numpy import arange\n",
    "params = arange(0.1, 1.0, 0.1)\n",
    "means = []\n",
    "stdevs = []\n",
    "for i in params:\n",
    "    s = cross_val_score(RandomForestRegressor(n_estimators=10, max_features=i), X, y, scoring=\"r2\", cv=FOLDS, verbose=0)\n",
    "    m = s.mean()\n",
    "    st = s.std()\n",
    "    means.append(m)\n",
    "    stdevs.append(st)\n",
    "    print(\"Param \" + str(i) + \": \" + str(m) + \" +/- \" + str(st))"
   ]
  },
  {
   "cell_type": "markdown",
   "metadata": {
    "slideshow": {
     "slide_type": "slide"
    }
   },
   "source": [
    "## Grid search with scikit's `GridSearchCV`\n",
    "\n",
    "### Example with 1 hyperparameter"
   ]
  },
  {
   "cell_type": "markdown",
   "metadata": {},
   "source": [
    "Define a grid search task:"
   ]
  },
  {
   "cell_type": "code",
   "execution_count": null,
   "metadata": {},
   "outputs": [],
   "source": [
    "from sklearn.model_selection import GridSearchCV\n",
    "grid_search = GridSearchCV(RandomForestRegressor(n_estimators=10),\n",
    "                           {\"max_features\": params},\n",
    "                           scoring=\"r2\",\n",
    "                           cv=FOLDS, # cv is the number of folds; smaller values will make the evaluation quicker; recommended values are between 5 and 10\n",
    "                           n_jobs=-1,\n",
    "                           verbose=1)"
   ]
  },
  {
   "cell_type": "markdown",
   "metadata": {
    "slideshow": {
     "slide_type": "slide"
    }
   },
   "source": [
    "Run the search:"
   ]
  },
  {
   "cell_type": "code",
   "execution_count": null,
   "metadata": {},
   "outputs": [],
   "source": [
    "grid_search.fit(X, y)"
   ]
  },
  {
   "cell_type": "markdown",
   "metadata": {
    "slideshow": {
     "slide_type": "slide"
    }
   },
   "source": [
    "Plot grid search results:"
   ]
  },
  {
   "cell_type": "code",
   "execution_count": null,
   "metadata": {},
   "outputs": [],
   "source": [
    "%matplotlib inline\n",
    "from matplotlib import pyplot\n",
    "pyplot.errorbar(params, grid_search.cv_results_['mean_test_score'], yerr=grid_search.cv_results_['std_test_score'])\n",
    "pyplot.title(\"Influence of hyperparameter\")\n",
    "pyplot.xlabel(\"Hyperparameter\")\n",
    "pyplot.ylabel(\"Performance\")\n",
    "pyplot.show()"
   ]
  },
  {
   "cell_type": "markdown",
   "metadata": {
    "slideshow": {
     "slide_type": "slide"
    }
   },
   "source": [
    "### Example with 2 hyperparameters"
   ]
  },
  {
   "cell_type": "code",
   "execution_count": null,
   "metadata": {},
   "outputs": [],
   "source": [
    "grid = {\"max_depth\": [3, 9, None],\n",
    "        \"max_features\": [0.5, 0.75]}\n",
    "grid_search = GridSearchCV(RandomForestRegressor(n_estimators=10),\n",
    "                           grid,\n",
    "                           scoring=\"r2\",\n",
    "                           cv=FOLDS,\n",
    "                           n_jobs=-1)"
   ]
  },
  {
   "cell_type": "markdown",
   "metadata": {
    "slideshow": {
     "slide_type": "slide"
    }
   },
   "source": [
    "Run the search to find the best combination of hyperparameters:"
   ]
  },
  {
   "cell_type": "code",
   "execution_count": null,
   "metadata": {},
   "outputs": [],
   "source": [
    "grid_search.fit(X, y)"
   ]
  },
  {
   "cell_type": "markdown",
   "metadata": {
    "slideshow": {
     "slide_type": "slide"
    }
   },
   "source": [
    "Create model from `X` and `y` using the best hyperparameters found during this search:"
   ]
  },
  {
   "cell_type": "code",
   "execution_count": null,
   "metadata": {},
   "outputs": [],
   "source": [
    "model = RandomForestRegressor(**grid_search.best_params_)\n",
    "model.fit(X, y)"
   ]
  },
  {
   "cell_type": "markdown",
   "metadata": {
    "slideshow": {
     "slide_type": "slide"
    }
   },
   "source": [
    "### Example with `KFold`"
   ]
  },
  {
   "cell_type": "code",
   "execution_count": null,
   "metadata": {},
   "outputs": [],
   "source": [
    "from sklearn.model_selection import KFold\n",
    "SEED = 8\n",
    "kfold = KFold(n_splits=FOLDS, shuffle=True, random_state=SEED)\n",
    "grid_search = GridSearchCV(RandomForestRegressor(n_estimators=10),\n",
    "                           grid,\n",
    "                           scoring=\"r2\",\n",
    "                           cv=kfold,\n",
    "                           n_jobs=-1)"
   ]
  }
 ],
 "metadata": {
  "kernelspec": {
   "display_name": "Python [default]",
   "language": "python",
   "name": "python3"
  },
  "language_info": {
   "codemirror_mode": {
    "name": "ipython",
    "version": 3
   },
   "file_extension": ".py",
   "mimetype": "text/x-python",
   "name": "python",
   "nbconvert_exporter": "python",
   "pygments_lexer": "ipython3",
   "version": "3.6.4"
  },
  "livereveal": {
    "autolaunch": true,
    "scroll": true
  }
 },
 "nbformat": 4,
 "nbformat_minor": 2
}
