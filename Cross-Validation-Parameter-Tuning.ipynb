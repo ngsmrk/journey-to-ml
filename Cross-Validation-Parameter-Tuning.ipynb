{
 "cells": [
  {
   "cell_type": "markdown",
   "metadata": {
    "slideshow": {
     "slide_type": "slide"
    }
   },
   "source": [
    "# Cross-Validation for (hyper)parameter tuning\n",
    "\n",
    "All Rights Reserved © <a href=\"http://www.louisdorard.com\" style=\"color: #6D00FF;\">Louis Dorard</a>\n",
    "\n",
    "<img src=\"http://s3.louisdorard.com.s3.amazonaws.com/ML_icon.png\">"
   ]
  },
  {
   "cell_type": "markdown",
   "metadata": {
    "slideshow": {
     "slide_type": "slide"
    }
   },
   "source": [
    "## Load data\n",
    "\n",
    "Same as in Evaluate notebook..."
   ]
  },
  {
   "cell_type": "code",
   "execution_count": 4,
   "metadata": {},
   "outputs": [],
   "source": [
    "from pandas import read_csv\n",
    "\n",
    "path = \"/data/\"\n",
    "data = read_csv(path + \"boston-housing.csv\", index_col=0)\n",
    "target_column = \"medv\"\n",
    "features = data.drop(target_column, axis=1)\n",
    "outputs = data[target_column]\n",
    "X = features.values.astype(float)\n",
    "y = outputs.values"
   ]
  },
  {
   "cell_type": "markdown",
   "metadata": {
    "slideshow": {
     "slide_type": "slide"
    }
   },
   "source": [
    "## Define models to compare"
   ]
  },
  {
   "cell_type": "code",
   "execution_count": 30,
   "metadata": {},
   "outputs": [],
   "source": [
    "from sklearn.ensemble import RandomForestRegressor\n",
    "\n",
    "SEED = 8\n",
    "\n",
    "estimator1 = RandomForestRegressor(max_features=0.5, max_depth=3, random_state=SEED)\n",
    "estimator2 = RandomForestRegressor(max_features=0.75, max_depth=3, random_state=SEED)\n",
    "estimator3 = RandomForestRegressor(max_features=0.5, max_depth=9, random_state=SEED)\n",
    "estimator4 = RandomForestRegressor(max_features=0.75, max_depth=9, random_state=SEED)"
   ]
  },
  {
   "cell_type": "code",
   "execution_count": 34,
   "metadata": {},
   "outputs": [
    {
     "name": "stderr",
     "output_type": "stream",
     "text": [
      "[Parallel(n_jobs=1)]: Done  10 out of  10 | elapsed:    0.2s finished\n",
      "[Parallel(n_jobs=1)]: Done  10 out of  10 | elapsed:    0.2s finished\n",
      "[Parallel(n_jobs=1)]: Done  10 out of  10 | elapsed:    0.2s finished\n"
     ]
    },
    {
     "name": "stdout",
     "output_type": "stream",
     "text": [
      "Estimator 1: 0.3884065446793275\n",
      "Estimator 2: 0.38356298484116846\n",
      "Estimator 3: 0.5391733055255037\n",
      "Estimator 4: 0.4907245368790047\n"
     ]
    },
    {
     "name": "stderr",
     "output_type": "stream",
     "text": [
      "[Parallel(n_jobs=1)]: Done  10 out of  10 | elapsed:    0.2s finished\n"
     ]
    }
   ],
   "source": [
    "from sklearn.model_selection import cross_val_score\n",
    "\n",
    "SCORING = \"r2\"\n",
    "FOLDS = 10\n",
    "verbose = 1\n",
    "s1 = cross_val_score(estimator1, X, y, scoring=SCORING, cv=FOLDS, verbose=verbose)\n",
    "s2 = cross_val_score(estimator2, X, y, scoring=SCORING, cv=FOLDS, verbose=verbose)\n",
    "s3 = cross_val_score(estimator3, X, y, scoring=SCORING, cv=FOLDS, verbose=verbose)\n",
    "s4 = cross_val_score(estimator4, X, y, scoring=SCORING, cv=FOLDS, verbose=verbose)\n",
    "print(\"Estimator 1: \" + str(s1.mean()))\n",
    "print(\"Estimator 2: \" + str(s2.mean()))\n",
    "print(\"Estimator 3: \" + str(s3.mean()))\n",
    "print(\"Estimator 4: \" + str(s4.mean()))"
   ]
  },
  {
   "cell_type": "markdown",
   "metadata": {
    "slideshow": {
     "slide_type": "subslide"
    }
   },
   "source": [
    "Remarks:\n",
    "\n",
    "- Try setting `verbose` to 1\n",
    "- See possible values of `scoring` parameter in [online documentation](http://scikit-learn.org/stable/modules/model_evaluation.html#scoring-parameter)"
   ]
  },
  {
   "cell_type": "markdown",
   "metadata": {
    "slideshow": {
     "slide_type": "slide"
    }
   },
   "source": [
    "## Fix the folds to be used for CV"
   ]
  },
  {
   "cell_type": "code",
   "execution_count": 36,
   "metadata": {},
   "outputs": [
    {
     "name": "stdout",
     "output_type": "stream",
     "text": [
      "[0.74011971 0.86028778 0.82026618 0.84185195 0.70178173 0.74864892\n",
      " 0.76457725 0.74218364 0.7183325  0.69049269]\n"
     ]
    },
    {
     "name": "stderr",
     "output_type": "stream",
     "text": [
      "[Parallel(n_jobs=1)]: Done  10 out of  10 | elapsed:    0.2s finished\n"
     ]
    }
   ],
   "source": [
    "from sklearn.model_selection import KFold\n",
    "\n",
    "kfold = KFold(n_splits=FOLDS, shuffle=True, random_state=SEED)\n",
    "results = cross_val_score(estimator1, X, y, scoring=SCORING, cv=kfold, verbose=verbose)\n",
    "print(results)"
   ]
  },
  {
   "cell_type": "code",
   "execution_count": 37,
   "metadata": {},
   "outputs": [
    {
     "data": {
      "text/plain": [
       "0.7628542369259114"
      ]
     },
     "execution_count": 37,
     "metadata": {},
     "output_type": "execute_result"
    }
   ],
   "source": [
    "results.mean()"
   ]
  },
  {
   "cell_type": "markdown",
   "metadata": {},
   "source": [
    "Results are much better... can you guess why?"
   ]
  },
  {
   "cell_type": "markdown",
   "metadata": {
    "slideshow": {
     "slide_type": "slide"
    }
   },
   "source": [
    "Let's inspect splits, for instance the 2nd one:"
   ]
  },
  {
   "cell_type": "code",
   "execution_count": 25,
   "metadata": {},
   "outputs": [],
   "source": [
    "splits = []\n",
    "for train_index, test_index in kfold.split(X):\n",
    "    split = {\n",
    "        'train_index': train_index,\n",
    "        'test_index': test_index\n",
    "    }\n",
    "    splits.append(split)"
   ]
  },
  {
   "cell_type": "code",
   "execution_count": 26,
   "metadata": {},
   "outputs": [
    {
     "name": "stdout",
     "output_type": "stream",
     "text": [
      "[  5  11  17  22  44  53  67  71  80  87  92  95 103 131 146 149 158 159\n",
      " 166 175 176 195 197 208 213 225 233 238 239 258 266 268 287 300 301 321\n",
      " 333 352 366 367 383 403 412 417 436 469 470 472 487 494 500]\n"
     ]
    }
   ],
   "source": [
    "train_index = splits[2]['train_index']\n",
    "test_index = splits[2]['test_index']\n",
    "print(test_index)"
   ]
  },
  {
   "cell_type": "code",
   "execution_count": 28,
   "metadata": {},
   "outputs": [],
   "source": [
    "X_train, X_test = X[train_index], X[test_index]\n",
    "y_train, y_test = y[train_index], y[test_index]"
   ]
  }
 ],
 "metadata": {
  "anaconda-cloud": {},
  "kernelspec": {
   "display_name": "Python 3",
   "language": "python",
   "name": "python3"
  },
  "language_info": {
   "codemirror_mode": {
    "name": "ipython",
    "version": 3
   },
   "file_extension": ".py",
   "mimetype": "text/x-python",
   "name": "python",
   "nbconvert_exporter": "python",
   "pygments_lexer": "ipython3",
   "version": "3.6.4"
  },
  "livereveal": {
   "autolaunch": true,
   "scroll": true
  }
 },
 "nbformat": 4,
 "nbformat_minor": 1
}
